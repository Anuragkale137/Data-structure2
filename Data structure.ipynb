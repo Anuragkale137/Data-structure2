{
 "cells": [
  {
   "cell_type": "code",
   "execution_count": 3,
   "id": "a0e92d11-a4ed-4f83-9d74-358725606f20",
   "metadata": {},
   "outputs": [],
   "source": [
    "# question 1:disccus strinf slicing and provide examples \n",
    "\n",
    "#answer:\n",
    "#example method 1st \n",
    "str1=\" i am a person\""
   ]
  },
  {
   "cell_type": "code",
   "execution_count": 4,
   "id": "8ab1ffc5-fa13-45d2-8995-0a5c1a14d1dd",
   "metadata": {},
   "outputs": [
    {
     "data": {
      "text/plain": [
       "' i a'"
      ]
     },
     "execution_count": 4,
     "metadata": {},
     "output_type": "execute_result"
    }
   ],
   "source": [
    "str1[0:4] #4 exclusive [a,b] gives the result until the b-1"
   ]
  },
  {
   "cell_type": "code",
   "execution_count": 5,
   "id": "62dcf9f2-2bda-4d52-88f2-fbb2fab43047",
   "metadata": {},
   "outputs": [],
   "source": [
    "#method 2nd\n",
    "str1=\" i am a person\""
   ]
  },
  {
   "cell_type": "code",
   "execution_count": 6,
   "id": "d131f170-08e7-4c3a-9582-46a34aeb3c4d",
   "metadata": {},
   "outputs": [
    {
     "data": {
      "text/plain": [
       "' i am a per'"
      ]
     },
     "execution_count": 6,
     "metadata": {},
     "output_type": "execute_result"
    }
   ],
   "source": [
    "str1[:-3] # remove the last 3 letters from the string-->if we want to remove the last parts of string then this type instruction."
   ]
  },
  {
   "cell_type": "code",
   "execution_count": 7,
   "id": "f738eefc-dc7d-4106-a489-9bb0b64b4188",
   "metadata": {},
   "outputs": [],
   "source": [
    "# method 3rd\n",
    "str1=\"pwskills\""
   ]
  },
  {
   "cell_type": "code",
   "execution_count": 10,
   "id": "356fe351-af09-4e36-aa1e-9edafe8787c4",
   "metadata": {},
   "outputs": [
    {
     "data": {
      "text/plain": [
       "'psi'"
      ]
     },
     "execution_count": 10,
     "metadata": {},
     "output_type": "execute_result"
    }
   ],
   "source": [
    "str1[0:5:2] # this instruction is used for to accept the which letters we want to take "
   ]
  },
  {
   "cell_type": "code",
   "execution_count": 11,
   "id": "55f73353-1142-4f6c-97ba-3ab94f93de47",
   "metadata": {},
   "outputs": [],
   "source": [
    "# method 4th\n",
    "str1=\"pwskills\""
   ]
  },
  {
   "cell_type": "code",
   "execution_count": 12,
   "id": "11f17964-4121-438a-a186-495358f5c41d",
   "metadata": {},
   "outputs": [
    {
     "data": {
      "text/plain": [
       "'sllikswp'"
      ]
     },
     "execution_count": 12,
     "metadata": {},
     "output_type": "execute_result"
    }
   ],
   "source": [
    "str1[::-1] #iterate over the sequense in reverse order,it start from last and move to the biginning on step backward by one character  "
   ]
  },
  {
   "cell_type": "code",
   "execution_count": 2,
   "id": "2eb89cbf-1711-4728-9de1-a1561f33f855",
   "metadata": {},
   "outputs": [],
   "source": [
    "# question no 2:explain the key features of list in python \n",
    "#you can store any value in list it can store the hetrogenuoues data,list is an orded collection of data that can be of any type of data\n",
    "#-appends-->add element in list and remove-->remove elements in list \n",
    "#-it is mutable in nature-->where we can modify the list with the program \n",
    "#-Repetation operation-->repetion will occur using list in python \n",
    "#-Deep copy and Shallow copy-->shallow copy->value will change with change in other list \n",
    "#                          -->deep copy->  will not change value in another list\n",
    "#-llist comprehension\"\"\"  \n",
    "#list as stack and queue\n",
    "#stack-->follow thw principle of first in last out\n",
    "#queue-->follows the principle of fifrst in first out.\n"
   ]
  },
  {
   "cell_type": "code",
   "execution_count": 3,
   "id": "216be94c-02ac-44b5-95f4-28c414e1699b",
   "metadata": {},
   "outputs": [],
   "source": [
    "# question no 3\": descirbe hoe to access and modify and delete in list with example \n",
    "#Inesert operation : list is mutable in nature so we can add ,modify and delete the element in list using various operations.\n",
    "lis=[\"mango\",\"apple\"]\n",
    "lis.insert(1,\"potato\") # insert object before index "
   ]
  },
  {
   "cell_type": "code",
   "execution_count": 4,
   "id": "1223b68c-8089-417d-9d11-04d13a5cc82e",
   "metadata": {},
   "outputs": [
    {
     "data": {
      "text/plain": [
       "['mango', 'potato', 'apple']"
      ]
     },
     "execution_count": 4,
     "metadata": {},
     "output_type": "execute_result"
    }
   ],
   "source": [
    "lis"
   ]
  },
  {
   "cell_type": "code",
   "execution_count": 6,
   "id": "fcaf7a84-3607-4297-98a9-9c3333cac201",
   "metadata": {},
   "outputs": [],
   "source": [
    "#extend-->used to append the element in from another list.\n",
    "mylist=[\"apple\",\"banana\",\"potato\"]\n",
    "brothers_list=[\"brinjal\",\"biscuit\"]\n",
    "mylist.extend(brothers_list)"
   ]
  },
  {
   "cell_type": "code",
   "execution_count": 7,
   "id": "d42bb77a-9728-4d02-8209-2a9571880eef",
   "metadata": {},
   "outputs": [
    {
     "data": {
      "text/plain": [
       "['apple', 'banana', 'potato', 'brinjal', 'biscuit']"
      ]
     },
     "execution_count": 7,
     "metadata": {},
     "output_type": "execute_result"
    }
   ],
   "source": [
    "mylist"
   ]
  },
  {
   "cell_type": "code",
   "execution_count": 8,
   "id": "a5ca4699-c59f-4a4e-a77a-979580d91119",
   "metadata": {},
   "outputs": [],
   "source": [
    "#Deep copy and shallow copy-->shallow copy-value will nolt change with change in other list\n",
    "\n",
    "groceray_list=[\"milk\",\"potato\"]\n",
    "a=groceray_list"
   ]
  },
  {
   "cell_type": "code",
   "execution_count": 9,
   "id": "50985a87-54c0-4755-9bfb-4e5b645c2a91",
   "metadata": {},
   "outputs": [
    {
     "data": {
      "text/plain": [
       "['milk', 'potato']"
      ]
     },
     "execution_count": 9,
     "metadata": {},
     "output_type": "execute_result"
    }
   ],
   "source": [
    "a"
   ]
  },
  {
   "cell_type": "code",
   "execution_count": 10,
   "id": "fd11097c-bd0a-43b2-ac7c-6e34763278d9",
   "metadata": {},
   "outputs": [],
   "source": [
    "#Deep copy-will not change the value in another list \n",
    "groceary_list=[\"milk\",\"potato\"]\n",
    "b=groceary_list.copy()\n",
    "b[0]=\"apple\"\n"
   ]
  },
  {
   "cell_type": "code",
   "execution_count": 11,
   "id": "29c174ee-fe9b-4100-b457-0af96abf696d",
   "metadata": {},
   "outputs": [
    {
     "data": {
      "text/plain": [
       "['apple', 'potato']"
      ]
     },
     "execution_count": 11,
     "metadata": {},
     "output_type": "execute_result"
    }
   ],
   "source": [
    "b"
   ]
  },
  {
   "cell_type": "code",
   "execution_count": 12,
   "id": "59c1f34b-4ba0-49b6-b620-09fd86b4c4cb",
   "metadata": {},
   "outputs": [
    {
     "data": {
      "text/plain": [
       "['milk', 'potato']"
      ]
     },
     "execution_count": 12,
     "metadata": {},
     "output_type": "execute_result"
    }
   ],
   "source": [
    "groceray_list"
   ]
  },
  {
   "cell_type": "code",
   "execution_count": 1,
   "id": "c64ddde1-6762-4692-86eb-08bc1555e78d",
   "metadata": {},
   "outputs": [],
   "source": [
    "# question no 4:differnce between thw tuple and \n",
    "#Tuple and List \n",
    "#      Tuple                        list \n",
    "#tupple is immutable            list is the mutable in nature \n",
    "#syntax is represented by '()'   syntax is represented by '[]'\n",
    "#performance is faster due to immutable    list slower beacuse of mutable \n",
    "#used for fixed collection of items        best used when the you need a collection of items that might change over time \n",
    "#\n"
   ]
  },
  {
   "cell_type": "code",
   "execution_count": 2,
   "id": "c7ab0939-7439-4d81-a66b-e3c4d00b1a85",
   "metadata": {},
   "outputs": [],
   "source": [
    "#question no 5 : Describe the key features of sets and provide examples of their use.\n",
    "#ANSWER-->\n",
    "#-sets are the unorderd collection unique elements \n",
    "#-it is mutable in nature.\n",
    "#-no concept of indexing as sets are the unuque and unorderd.\n",
    "#-Frozen sets-Immutable version of sets,cannot be added or removed any new element.\n",
    "#-Don't allow the duplicate of element represenation \n",
    "setname={\"anurag\",\"pwskills\",\"anurag\"}"
   ]
  },
  {
   "cell_type": "code",
   "execution_count": 3,
   "id": "269e07d1-2741-4f94-b4d3-7c487d06e5b3",
   "metadata": {},
   "outputs": [
    {
     "data": {
      "text/plain": [
       "{'anurag', 'pwskills'}"
      ]
     },
     "execution_count": 3,
     "metadata": {},
     "output_type": "execute_result"
    }
   ],
   "source": [
    "setname"
   ]
  },
  {
   "cell_type": "code",
   "execution_count": 4,
   "id": "a058cc74-5775-4460-8c6a-9560a250b2a6",
   "metadata": {},
   "outputs": [],
   "source": [
    "#question no 6: descuss the use cases of tuples and sets in Python programming\n",
    "#answer-->Use case of tuples-Data integrity use tupples when you want to ensure that the data remians constunt throughout the program\n",
    "#                           -fuction returns tuples are commanly used to return multiple values from a function\n",
    "#                           -key for dictionries tuples are immutable they can be used as key in dictinaries,unlike lists this is used wehn you need composite keys \n",
    "#        -Use case of sets-sets are unique collection of elements so they are perfect where the duplicate is not allowed \n",
    "#                         -sets supports mathamatical operations suchb as union,intersection,differnce,and symmetric differnce \n",
    "#                         -cheacking for membreship in asets is typically faster than in alist due to the underify hash table implementation.\n"
   ]
  },
  {
   "cell_type": "code",
   "execution_count": 8,
   "id": "1518dbf2-cf61-4d99-894c-28c5f7f54b6c",
   "metadata": {},
   "outputs": [],
   "source": [
    "# question nop 7: Describe how to add, modify, and delete items in a dictionary with examples\n",
    "student={\"1\":\"anurag\",\"2\":\"rohit\"}"
   ]
  },
  {
   "cell_type": "code",
   "execution_count": 9,
   "id": "f53cba50-4778-49a4-b1bc-9945a68c206c",
   "metadata": {},
   "outputs": [
    {
     "data": {
      "text/plain": [
       "{'1': 'anurag', '2': 'rohit'}"
      ]
     },
     "execution_count": 9,
     "metadata": {},
     "output_type": "execute_result"
    }
   ],
   "source": [
    "student"
   ]
  },
  {
   "cell_type": "code",
   "execution_count": 14,
   "id": "bc6b5bb3-1469-44c6-9677-2e9b20b48d80",
   "metadata": {},
   "outputs": [
    {
     "name": "stdout",
     "output_type": "stream",
     "text": [
      "alice\n",
      "unhashable type: 'list'\n"
     ]
    }
   ],
   "source": [
    "# question no 8 :  Discuss the importance of dictionary keys being immutable and provide examples.\n",
    "# answer--> Hashing consistance- dictionaries use a hash table to quickly acces the values based on keys.immutable objects have a constant tha hash values \n",
    "#                                throughtout there lifetime,ensuring that the keys position in the hash table remains constant\n",
    "#         -efficiant serching-immutable keys allows for faster dictionary operation since the dictionary dosent need to constantly chack or recalculate\n",
    "#                             the hash values of keys \n",
    "my_dict={\"name\":\"alice\",\"age\":30}\n",
    "print(my_dict[\"name\"])\n",
    "mutable_key=[1,2,3]\n",
    "try:\n",
    "    my_dict[mutable_key]=\"invalid\"\n",
    "except TypeError as e:\n",
    "    print(e)\n"
   ]
  },
  {
   "cell_type": "code",
   "execution_count": null,
   "id": "fa104aa6-0590-4afc-bfd2-820a452fe225",
   "metadata": {},
   "outputs": [],
   "source": []
  }
 ],
 "metadata": {
  "kernelspec": {
   "display_name": "Python 3 (ipykernel)",
   "language": "python",
   "name": "python3"
  },
  "language_info": {
   "codemirror_mode": {
    "name": "ipython",
    "version": 3
   },
   "file_extension": ".py",
   "mimetype": "text/x-python",
   "name": "python",
   "nbconvert_exporter": "python",
   "pygments_lexer": "ipython3",
   "version": "3.10.8"
  }
 },
 "nbformat": 4,
 "nbformat_minor": 5
}
